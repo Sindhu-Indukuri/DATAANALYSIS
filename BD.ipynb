{
  "nbformat": 4,
  "nbformat_minor": 0,
  "metadata": {
    "colab": {
      "provenance": []
    },
    "kernelspec": {
      "name": "python3",
      "display_name": "Python 3"
    },
    "language_info": {
      "name": "python"
    }
  },
  "cells": [
    {
      "cell_type": "code",
      "source": [
        "import pandas as pd\n",
        "#generate a large volume of random data(eg. 1 millon data points)\n",
        "volume_data = pd.read_csv('/content/drive/MyDrive/Dataset/adult_income.csv')\n",
        "print(\"volume of data:\",len(volume_data))\n"
      ],
      "metadata": {
        "colab": {
          "base_uri": "https://localhost:8080/"
        },
        "id": "Dr52WWVdO2wq",
        "outputId": "1ef03c9a-81eb-4ec9-a72c-dc1d457c85a4"
      },
      "execution_count": 3,
      "outputs": [
        {
          "output_type": "stream",
          "name": "stdout",
          "text": [
            "volume of data: 32561\n"
          ]
        }
      ]
    },
    {
      "cell_type": "code",
      "source": [
        "import time\n",
        "import numpy as np\n",
        "#simulate streaming data every second for 10 seconds\n",
        "velocity_data = pd.read_csv('/content/drive/MyDrive/Dataset/adult_income.csv')\n",
        "for i in range(10):\n",
        "  velocity_data=np.random.rand( )#generate random data\n",
        "  print(\"velocity data point:\",velocity_data)\n",
        "  time.sleep(2)#wait for 1 second to simulate real-time data stream"
      ],
      "metadata": {
        "colab": {
          "base_uri": "https://localhost:8080/"
        },
        "id": "4Ucv3IGhPkya",
        "outputId": "7f081969-ef4b-4c0e-c645-9b801178c269"
      },
      "execution_count": 5,
      "outputs": [
        {
          "output_type": "stream",
          "name": "stdout",
          "text": [
            "velocity data point: 0.6084962549169197\n",
            "velocity data point: 0.5092956557783173\n",
            "velocity data point: 0.4249039550542475\n",
            "velocity data point: 0.18673535157112453\n",
            "velocity data point: 0.8946448076550969\n",
            "velocity data point: 0.5513720612265509\n",
            "velocity data point: 0.8806116239886288\n",
            "velocity data point: 0.5508614017388301\n",
            "velocity data point: 0.3741238966729705\n",
            "velocity data point: 0.45544868171423014\n"
          ]
        }
      ]
    },
    {
      "cell_type": "code",
      "source": [
        "import pandas as pd\n",
        "import random\n",
        "#generate some random data with noise\n",
        "veracity_data = pd.read_csv('/content/drive/MyDrive/Dataset/adult_income.csv')\n",
        "veracity_data=[random.choice([1,2,3,None])for _ in range(20)]\n",
        "print(\"veracity data:\",veracity_data)"
      ],
      "metadata": {
        "colab": {
          "base_uri": "https://localhost:8080/"
        },
        "id": "b-xU5oYEQX2D",
        "outputId": "c77b9ede-36bc-49a7-b814-37d20c7d95f6"
      },
      "execution_count": 7,
      "outputs": [
        {
          "output_type": "stream",
          "name": "stdout",
          "text": [
            "veracity data: [1, 1, 2, 2, 2, None, 1, None, 1, 1, 3, 1, 3, 1, 1, 2, 2, 1, 2, 1]\n"
          ]
        }
      ]
    },
    {
      "cell_type": "code",
      "source": [
        "structured_data = pd.read_csv('/content/drive/MyDrive/Dataset/adult_income.csv', sep =',')\n",
        "#structured data\n",
        "print(structured_data)\n",
        "#semi-structured data(JSON)\n",
        "semistructured_data = pd.read_csv('/content/drive/MyDrive/Dataset/adult_income.csv', sep =',')\n",
        "print(semistructured_data)\n",
        "#unstructured data(text)\n",
        "unstructured_data=\"This is a sample text document.It can contain any information in free form\"\n",
        "print(unstructured_data)"
      ],
      "metadata": {
        "colab": {
          "base_uri": "https://localhost:8080/"
        },
        "id": "q33BHm3WQm3C",
        "outputId": "707dab15-3292-40e5-d157-76223a544f92"
      },
      "execution_count": 10,
      "outputs": [
        {
          "output_type": "stream",
          "name": "stdout",
          "text": [
            "       Unnamed: 0  age  fnlwgt  education.num  sex  capital.gain  \\\n",
            "0               0   90   77053              9    0             0   \n",
            "1               1   82  132870              9    0             0   \n",
            "2               2   66  186061             10    0             0   \n",
            "3               3   54  140359              4    0             0   \n",
            "4               4   41  264663             10    0             0   \n",
            "...           ...  ...     ...            ...  ...           ...   \n",
            "32556       32556   22  310152             10    1             0   \n",
            "32557       32557   27  257302             12    0             0   \n",
            "32558       32558   40  154374              9    1             0   \n",
            "32559       32559   58  151910              9    0             0   \n",
            "32560       32560   22  201490              9    1             0   \n",
            "\n",
            "       capital.loss  hours.per.week  income  \n",
            "0              4356              40       0  \n",
            "1              4356              18       0  \n",
            "2              4356              40       0  \n",
            "3              3900              40       0  \n",
            "4              3900              40       0  \n",
            "...             ...             ...     ...  \n",
            "32556             0              40       0  \n",
            "32557             0              38       0  \n",
            "32558             0              40       1  \n",
            "32559             0              40       0  \n",
            "32560             0              20       0  \n",
            "\n",
            "[32561 rows x 9 columns]\n",
            "       Unnamed: 0  age  fnlwgt  education.num  sex  capital.gain  \\\n",
            "0               0   90   77053              9    0             0   \n",
            "1               1   82  132870              9    0             0   \n",
            "2               2   66  186061             10    0             0   \n",
            "3               3   54  140359              4    0             0   \n",
            "4               4   41  264663             10    0             0   \n",
            "...           ...  ...     ...            ...  ...           ...   \n",
            "32556       32556   22  310152             10    1             0   \n",
            "32557       32557   27  257302             12    0             0   \n",
            "32558       32558   40  154374              9    1             0   \n",
            "32559       32559   58  151910              9    0             0   \n",
            "32560       32560   22  201490              9    1             0   \n",
            "\n",
            "       capital.loss  hours.per.week  income  \n",
            "0              4356              40       0  \n",
            "1              4356              18       0  \n",
            "2              4356              40       0  \n",
            "3              3900              40       0  \n",
            "4              3900              40       0  \n",
            "...             ...             ...     ...  \n",
            "32556             0              40       0  \n",
            "32557             0              38       0  \n",
            "32558             0              40       1  \n",
            "32559             0              40       0  \n",
            "32560             0              20       0  \n",
            "\n",
            "[32561 rows x 9 columns]\n",
            "This is a sample text document.It can contain any information in free form\n"
          ]
        }
      ]
    },
    {
      "cell_type": "code",
      "source": [],
      "metadata": {
        "id": "E2XphR7QQu9K"
      },
      "execution_count": null,
      "outputs": []
    }
  ]
}